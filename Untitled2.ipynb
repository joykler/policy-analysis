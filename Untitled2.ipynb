{
 "cells": [
  {
   "cell_type": "code",
   "execution_count": 193,
   "id": "f3dd628b-488c-4593-b5f3-22dd25fa8e3e",
   "metadata": {
    "editable": true,
    "slideshow": {
     "slide_type": ""
    },
    "tags": []
   },
   "outputs": [
    {
     "name": "stdout",
     "output_type": "stream",
     "text": [
      "STAAT EN SLAVERNIJ\n",
      "  STAAT& \n",
      "SLAVER\n",
      "NIJ\n",
      "Het Nederlandse \n",
      "koloniale slavernij­­\n",
      "verleden en zijn \n",
      "doorwerkingen\n",
      "Onder redactie van \n",
      "Rose Mary Allen, Esther Captain, \n",
      "Matthias van Rossum, Urwin Vyent\n",
      "Met medewerking van \n",
      "Myrthe Kraaijenoord, Eva Thielen\n",
      "Athenaeum–Polak & Van Gennep | Amsterdam 2023\n",
      " Dit boek is mogelijk gemaakt door een subsidie \n",
      "van het ministerie van Binnenlandse Zaken en \n",
      "Koninkrijksrelaties.\n",
      "Copyright © 2023 de respectievelijke auteurs / \n",
      "Athenaeum—Polak & Van Gennep, \n",
      "Weteringschans 259, 1017 xj Amsterdam\n",
      "De teksten van Kwame Nimako, Kate Ekama, \n",
      "Titas Chakraborty, Felicia Fricke en \n",
      "Filipa Ribeiro da Silva zijn vertaald  \n",
      "door Mischa Hoyinck. \n",
      "Beeldredactie:\n",
      "Gaia Cerpac, Myrthe Kraaijenoord, Eva Thielen \n",
      "en Merve Tosun\n",
      "Boekverzorging studio frederik de wal\n",
      "isbn 978 90 253 1661 7\n",
      "nur 320 / 680\n",
      "www.uitgeverijathenaeum.nl\n",
      "www.staatenslavernij.nl\n",
      "Zenzy Blindeling ontwierp het logo op \n",
      "pagina 2. ‘Omdat in Staat en slavernij de wic \n",
      "en voc uitvoerig aan bod komen, heb ik\n",
      "Tekst opgeslagen als extracted_text.txt\n"
     ]
    }
   ],
   "source": [
    "# STEP 1: Installatie van PyMuPDF (indien nodig)\n",
    "!pip install PyMuPDF --quiet\n",
    "\n",
    "# STEP 2: Importeren\n",
    "import fitz  # PyMuPDF\n",
    "import pandas as pd\n",
    "\n",
    "# STEP 3: PDF-bestand kiezen\n",
    "pdf_path = \"Allen e.a. - 2023 - Staat en slavernij het Nederlandse koloniale slavernijverleden en zijn doorwerkingen.pdf\"  # <-- Vervang door de naam van je PDF-bestand\n",
    "\n",
    "# STEP 4: Extractie van volledige tekst\n",
    "doc = fitz.open(pdf_path)\n",
    "full_text = \" \".join([page.get_text() for page in doc])\n",
    "\n",
    "# Toon een preview van de eerste 1000 tekens\n",
    "print(full_text[:1000])\n",
    "\n",
    "# STEP 5a: Opslaan als TXT-bestand (aanbevolen voor volledige tekst)\n",
    "with open(\"Staat_slavernij.txt\", \"w\", encoding=\"utf-8\") as f:\n",
    "    f.write(full_text)\n",
    "print(\"Tekst opgeslagen als extracted_text.txt\")\n",
    "\n"
   ]
  },
  {
   "cell_type": "code",
   "execution_count": null,
   "id": "9011bf70-7b25-43f1-9247-7dcefbcec39f",
   "metadata": {
    "editable": true,
    "slideshow": {
     "slide_type": ""
    },
    "tags": []
   },
   "outputs": [],
   "source": []
  }
 ],
 "metadata": {
  "kernelspec": {
   "display_name": "Python [conda env:policy]",
   "language": "python",
   "name": "conda-env-policy-py"
  },
  "language_info": {
   "codemirror_mode": {
    "name": "ipython",
    "version": 3
   },
   "file_extension": ".py",
   "mimetype": "text/x-python",
   "name": "python",
   "nbconvert_exporter": "python",
   "pygments_lexer": "ipython3",
   "version": "3.12.9"
  }
 },
 "nbformat": 4,
 "nbformat_minor": 5
}
