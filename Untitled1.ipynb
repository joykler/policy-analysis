{
 "cells": [
  {
   "cell_type": "code",
   "execution_count": 4,
   "id": "f245a7a4-be4e-4c28-a0f3-e5ecd386b325",
   "metadata": {},
   "outputs": [
    {
     "name": "stderr",
     "output_type": "stream",
     "text": [
      "[nltk_data] Downloading package punkt to\n",
      "[nltk_data]     C:\\Users\\Home\\AppData\\Roaming\\nltk_data...\n",
      "[nltk_data]   Package punkt is already up-to-date!\n"
     ]
    },
    {
     "data": {
      "text/plain": [
       "True"
      ]
     },
     "execution_count": 4,
     "metadata": {},
     "output_type": "execute_result"
    }
   ],
   "source": [
    "import nltk\n",
    "nltk.data.path = [r'C:\\Users\\Home\\AppData\\Roaming\\nltk_data']\n",
    "nltk.download('punkt', download_dir=r'C:\\Users\\Home\\AppData\\Roaming\\nltk_data')\n"
   ]
  },
  {
   "cell_type": "code",
   "execution_count": 5,
   "id": "39fc4419-d993-47fe-a413-d2e4efc5efd3",
   "metadata": {},
   "outputs": [
    {
     "name": "stdout",
     "output_type": "stream",
     "text": [
      "['Dit', 'is', 'een', 'test', '.', 'Werkt', 'het', 'nu', '?']\n"
     ]
    }
   ],
   "source": [
    "from nltk.tokenize import word_tokenize\n",
    "print(word_tokenize(\"Dit is een test. Werkt het nu?\"))\n"
   ]
  },
  {
   "cell_type": "code",
   "execution_count": null,
   "id": "27b409d5-33e2-4b0a-b1c2-253979b12d39",
   "metadata": {},
   "outputs": [],
   "source": []
  }
 ],
 "metadata": {
  "kernelspec": {
   "display_name": "Python [conda env:policy] *",
   "language": "python",
   "name": "conda-env-policy-py"
  },
  "language_info": {
   "codemirror_mode": {
    "name": "ipython",
    "version": 3
   },
   "file_extension": ".py",
   "mimetype": "text/x-python",
   "name": "python",
   "nbconvert_exporter": "python",
   "pygments_lexer": "ipython3",
   "version": "3.12.9"
  }
 },
 "nbformat": 4,
 "nbformat_minor": 5
}
