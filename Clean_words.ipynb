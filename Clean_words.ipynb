{
  "cells": [
    {
      "cell_type": "markdown",
      "metadata": {},
      "source": [
        "# Clean Words Notebook\n",
        "\n",
        "This notebook creates a combined stop word list and exports it to `stopwords_extra.txt`."
      ]
    },
    {
      "cell_type": "markdown",
      "metadata": {},
      "source": [
        "## 1.a Build stop word list"
      ]
    },
    {
      "cell_type": "code",
      "metadata": {},
      "execution_count": null,
      "outputs": [],
      "source": [
        "import re\n",
        "import pandas as pd\n",
        "from nltk.corpus import stopwords\n",
        "\n",
        "nltk_stopwords = set(stopwords.words('dutch')) | set(stopwords.words('english'))\n",
        "custom_policy_stopwords = [\"de\", \"het\", \"een\", \"en\", \"van\", \"in\", \"op\", \"met\", \"voor\", \"tegen\", \"zonder\", \"bij\", \"naar\", \"tot\", \"uit\", \"door\", \"aan\", \"om\", \"te\", \"als\", \"ook\", \"maar\", \"want\", \"dus\", \"of\", \"dan\", \"nog\", \"wel\", \"zijn\", \"is\", \"was\", \"waren\", \"worden\", \"hebben\", \"heeft\", \"had\", \"doet\", \"doen\", \"al\", \"alle\", \"meer\", \"minder\", \"veel\", \"weinig\", \"binnen\", \"buiten\", \"tussen\", \"onder\", \"boven\", \"over\", \"na\", \"voor\", \"achter\", \"naast\", \"sinds\", \"tijdens\", \"zoals\", \"ik\", \"jij\", \"hij\", \"zij\", \"wij\", \"jullie\", \"u\", \"je\", \"ze\", \"dit\", \"dat\", \"die\", \"deze\", \"welke\", \"ons\", \"hun\", \"hem\", \"haar\", \"ons\", \"onszelf\", \"hunzelf\", \"jouw\", \"mijn\", \"jullie\", \"bijlage\", \"bijlagen\", \"inleiding\", \"samenvatting\", \"conclusie\", \"conclusies\", \"tabel\", \"groep\", \"project\", \"organisatie\", \"onderdeel\", \"onderzoek\", \"overzicht\", \"resultaten\", \"resultaat\", \"aantal\", \"totaal\", \"deel\", \"delen\", \"vraag\", \"vragen\", \"antwoord\", \"antwoorden\", \"rapport\", \"rapportage\", \"toelichting\", \"nullmeting\", \"nulmeting\", \"meeting\", \"metingen\", \"maatregel\", \"maatregelen\", \"jaar\", \"jaren\", \"gegeven\", \"gegevens\", \"gebruik\", \"gebruikt\", \"onderwijs\", \"beleid\", \"beleidsterrein\", \"beleidsveld\", \"beleidsnota\", \"onderzoek\", \"onderzoeken\", \"onderzoeker\", \"onderzoekers\", \"onderzoeksmethoden\", \"case\", \"cases\", \"onderwerpen\", \"onderwerp\", \"uitkomst\", \"uitkomsten\", \"projecten\", \"projectgroep\", \"projectleider\", \"toezicht\", \"inspectie\", \"inspecties\", \"toelichting\", \"leeswijzer\", \"artikel\", \"artikelen\", \"bijdrage\", \"doel\", \"doelen\", \"ministerie\", \"minister\", \"ministers\", \"bz\", \"bzkt\", \"bzkr\", \"bzks\", \"bz\", \"kw\", \"kwb\", \"saba\", \"bonaire\", \"statia\", \"statian\", \"statiae\", \"statians\", \"eustatius\", \"st\", \"sint\", \"cn\", \"bes\", \"bes-eilanden\", \"bes eilanden\", \"caribisch\", \"caribische\", \"nederland\", \"nederlandse\", \"rijksoverheid\", \"overheid\", \"publiek\", \"publieke\", \"inspectie\", \"audit\", \"audits\", \"commissie\", \"commissies\", \"toezicht\", \"burgerrechten\", \"veiligheid\", \"politie\", \"samenvatting\", \"overzicht\", \"tabel\", \"tabellen\", \"bijlage\", \"bijlagen\", \"bijlage\", \"bijlagen\", \"blz\", \"pagina\", \"paginas\", \"pagina\\u2019s\", \"hoofdstuk\", \"hoofdstukken\", \"paragraaf\", \"paragrafen\", \"figuur\", \"figuren\", \"schema\", \"schema\\u2019s\", \"grafiek\", \"grafieken\", \"afbeelding\", \"afbeeldingen\", \"niet\", \"wel\", \"geen\", \"wordt\", \"worden\", \"zijn\", \"is\", \"was\", \"zal\", \"kunnen\", \"kun\", \"moet\", \"moeten\", \"mag\", \"mogen\", \"dient\", \"dienen\", \"blijft\", \"blijven\", \"heeft\", \"hebben\", \"kan\", \"kunnen\", \"alleen\", \"samen\", \"tijdens\", \"januari\", \"februari\", \"maart\", \"april\", \"mei\", \"juni\", \"juli\", \"augustus\", \"september\", \"oktober\", \"november\", \"december\", \"bijlage\", \"b\", \"c\", \"d\", \"e\", \"f\", \"g\", \"h\", \"i\", \"j\", \"k\", \"l\", \"m\", \"n\", \"o\", \"p\", \"q\", \"r\", \"s\", \"t\", \"u\", \"v\", \"w\", \"x\", \"y\", \"z\", \"t\", \"st\", \"overzicht\", \"samenvatting\", \"bijlage\", \"bijlagen\"]\n",
        "combined_stopwords = nltk_stopwords | set(custom_policy_stopwords)\n",
        "\n",
        "with open('stopwords_extra.txt','w',encoding='utf-8') as fh:\n",
        "    for word in sorted(combined_stopwords):\n",
        "        fh.write(word + '\n')\n",
        "\n",
        "def remove_stopwords_and_numbers(text, stoplist=combined_stopwords):\n",
        "    if pd.isna(text):\n",
        "        return ''\n",
        "    tokens = re.findall(r'\\b\\w+\\b', text.lower())\n",
        "    filtered = [t for t in tokens if t not in stoplist and not t.isdigit()]\n",
        "    return ' '.join(filtered)\n"
      ]
    }
  ],
  "metadata": {
    "kernelspec": {
      "display_name": "Python 3",
      "name": "python3"
    },
    "language_info": {
      "name": "python"
    }
  },
  "nbformat": 4,
  "nbformat_minor": 5
}
