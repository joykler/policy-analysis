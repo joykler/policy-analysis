{
 "cells": [
  {
   "cell_type": "code",
   "execution_count": null,
   "id": "f1dd9e25",
   "metadata": {},
   "outputs": [],
   "source": [
    "import pandas as pd\n",
    "import matplotlib.pyplot as plt\n",
    "\n",
    "# Example: if your dataframe is called df and has 'predicted_topic'\n",
    "# Group by topic and count documents\n",
    "topic_counts = sent_df['bertje_policy_predictions_with_embeddings_2015.csv'].value_counts().sort_values(ascending=False)\n",
    "\n",
    "# Plot bar chart\n",
    "plt.figure(figsize=(10, 6))\n",
    "topic_counts.plot(kind='bar')\n",
    "plt.title('Number of Documents per Topic')\n",
    "plt.xlabel('Topic')\n",
    "plt.ylabel('Number of Documents')\n",
    "plt.xticks(rotation=45)\n",
    "plt.tight_layout()\n",
    "plt.show()\n"
   ]
  }
 ],
 "metadata": {
  "language_info": {
   "name": "python"
  }
 },
 "nbformat": 4,
 "nbformat_minor": 5
}
